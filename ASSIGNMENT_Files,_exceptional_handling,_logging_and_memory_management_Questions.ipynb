{
  "nbformat": 4,
  "nbformat_minor": 0,
  "metadata": {
    "colab": {
      "provenance": []
    },
    "kernelspec": {
      "name": "python3",
      "display_name": "Python 3"
    },
    "language_info": {
      "name": "python"
    }
  },
  "cells": [
    {
      "cell_type": "code",
      "execution_count": null,
      "metadata": {
        "id": "D6Nz8Su2Ug9D"
      },
      "outputs": [],
      "source": []
    },
    {
      "cell_type": "markdown",
      "source": [
        "** THEORY QUESTIONS**\n",
        "\n",
        "**Q1. What is the difference between interpreted and compiled languages?**\n",
        "\n",
        "ANS. The key difference between interpreted and compiled languages is how they execute code:\n",
        "\n",
        "1. Compiled Languages\n",
        "\n",
        "Code is translated into machine code (binary) before execution using a compiler.\n",
        "\n",
        "The entire program is compiled at once, creating an executable file.\n",
        "\n",
        "Faster execution because it runs directly on the hardware.\n",
        "\n",
        "Examples: C, C++, Rust, Go\n",
        "\n",
        "\n",
        "\n",
        "2. Interpreted Languages\n",
        "\n",
        "Code is executed line-by-line at runtime using an interpreter.\n",
        "\n",
        "No separate executable file; the program runs directly from the source code.\n",
        "\n",
        "Slower execution because it requires interpretation at runtime.\n",
        "\n",
        "Examples: Python, JavaScript, Ruby, PHP\n",
        "\n",
        "\n",
        "**Q2. What is exception handling in Python?**\n",
        "\n",
        "ANS. Exception Handling in Python\n",
        "\n",
        "Exception handling in Python is a way to manage errors that occur during program execution. Instead of crashing, Python allows you to catch and handle exceptions using try, except, else, and finally blocks.\n",
        "\n",
        "\n",
        "Basic Syntax:\n",
        "\n",
        "try:\n",
        "    # Code that may raise an exception\n",
        "    result = 10 / 0  # This will cause a ZeroDivisionError\n",
        "except ZeroDivisionError:\n",
        "    print(\"Cannot divide by zero!\")\n",
        "\n",
        "Output:\n",
        "\n",
        "Cannot divide by zero!\n",
        "\n",
        "\n",
        "Key Exception Handling Constructs:\n",
        "\n",
        "1. try block → Code that might cause an exception.\n",
        "\n",
        "\n",
        "2. except block → Handles the exception if one occurs.\n",
        "\n",
        "\n",
        "3. else block (optional) → Executes if no exception occurs.\n",
        "\n",
        "\n",
        "4. finally block (optional) → Always executes (useful for cleanup).\n",
        "\n",
        "\n",
        "\n",
        "Raising Exceptions (raise)\n",
        "\n",
        "You can manually raise exceptions using raise:\n",
        "\n",
        "age = -1\n",
        "if age < 0:\n",
        "    raise ValueError(\"Age cannot be negative!\")\n",
        "\n",
        "\n",
        "**Q3. What is the purpose of the finally block in exception handling?**\n",
        "\n",
        "ANS. The finally block in Python is used to execute code regardless of whether an exception occurs or not. It is typically used for cleanup operations such as closing files, releasing resources, or disconnecting from databases.\n",
        "\n",
        "Key Features of finally:\n",
        "\n",
        "1. Always Executes → Runs whether an exception is raised or not.\n",
        "\n",
        "\n",
        "2. Used for Cleanup → Ideal for closing files, network connections, etc.\n",
        "\n",
        "\n",
        "3. Cannot Be Skipped → Even if return, break, or continue is used in try or except, finally will still execute.\n",
        "\n",
        "\n",
        "**Q4. What is logging in Python?**\n",
        "\n",
        "ANS. Logging in Python is a built-in module that allows you to record messages about the execution of your program. It is useful for debugging, tracking errors, and monitoring the program's behavior in production environments.\n",
        "\n",
        "\n",
        "Why Use Logging Instead of Print?\n",
        "\n",
        "✅ More Control → You can log messages at different severity levels.\n",
        "\n",
        "✅ Configurable → You can write logs to files, send them to a server, or display them on the console.\n",
        "\n",
        "✅ Better Debugging → Helps track issues without cluttering your code with print() statements.\n",
        "\n",
        "✅ Timestamps & Formatting → Logs include timestamps, module names, and other details.\n",
        "\n",
        "\n",
        "**Q5. What is the significance of the del method in Python?**\n",
        "\n",
        "ANS. The _del_ method in Python is called when an object is about to be destroyed (i.e., when there are no more references to it). It acts as a destructor and is typically used for cleanup tasks, such as releasing resources (files, database connections, network sockets, etc.).\n",
        "\n",
        "\n",
        "Basic Syntax:\n",
        "\n",
        "class Example:\n",
        "    def _init_(self):\n",
        "        print(\"Object created!\")\n",
        "\n",
        "    def _del_(self):\n",
        "        print(\"Object destroyed!\")\n",
        "\n",
        "# Creating and deleting an object\n",
        "obj = Example()\n",
        "del obj  # Explicitly deleting the object\n",
        "\n",
        "Output:\n",
        "\n",
        "Object created!\n",
        "Object destroyed!\n",
        "\n",
        "\n",
        "Key Points About _del_:\n",
        "\n",
        "1. Automatically Called by Python → When an object goes out of scope or is no longer needed.\n",
        "\n",
        "\n",
        "2. Used for Cleanup → Closing files, releasing database connections, etc.\n",
        "\n",
        "\n",
        "3. May Not Run Immediately → If the object is referenced elsewhere, Python’s garbage collector won’t delete it immediately.\n",
        "\n",
        "\n",
        "4. Avoid Using It for Critical Cleanup → Since garbage collection timing is unpredictable, use try...finally or context managers (with statement) instead.\n",
        "\n",
        "\n",
        "**Q6. What is the difference between import and from ... import in Python**?\n",
        "\n",
        "ANS. Both import and from ... import are used to include external modules in Python, but they have different behaviors.\n",
        "\n",
        "\n",
        "1. import module_name\n",
        "\n",
        "Imports the entire module.\n",
        "\n",
        "You must prefix functions or variables with the module name.\n",
        "\n",
        "Useful for avoiding name conflicts.\n",
        "\n",
        "\n",
        "Example:\n",
        "\n",
        "import math\n",
        "print(math.sqrt(16))  # Using module_name.function\n",
        "\n",
        "\n",
        "\n",
        "2. from module_name import specific_function_or_variable\n",
        "\n",
        "Imports only specific functions/variables from a module.\n",
        "\n",
        "No need to prefix with the module name.\n",
        "\n",
        "Useful when you need only a few functions.\n",
        "\n",
        "\n",
        "Example:\n",
        "\n",
        "from math import sqrt\n",
        "print(sqrt(16))  # No need to use math.sqrt()\n",
        "\n",
        "\n",
        "**Q7. How can you handle multiple exceptions in Python?**\n",
        "\n",
        "ANS. Handling Multiple Exceptions in Python\n",
        "\n",
        "In Python, you can handle multiple exceptions in several ways:\n",
        "\n",
        "1. Using Multiple except Blocks\n",
        "\n",
        "You can catch different exceptions separately and handle them differently.\n",
        "\n",
        "2. Handling Multiple Exceptions in One except Block\n",
        "\n",
        "Use a tuple to catch multiple exceptions in a single block.\n",
        "\n",
        "3. Using a Generic except Block (Not Recommended for Debugging)\n",
        "\n",
        "Catching all exceptions using except Exception: ensures that no error crashes the program, but it may hide unexpected bugs.\n",
        "\n",
        "4. Using else and finally with Multiple Exceptions\n",
        "\n",
        "else runs only if no exception occurs.\n",
        "\n",
        "finally always runs, useful for cleanup (closing files, releasing resources, etc.).\n",
        "\n",
        "\n",
        "**Q8. What is the purpose of the with statement when handling files in Python?**\n",
        "\n",
        "ANS. The with statement in Python is used for resource management, especially when working with files. It ensures that the file is properly closed after its operations, even if an error occurs.\n",
        "\n",
        "Why Use with Instead of open() and close()?\n",
        "\n",
        "✅ Automatic Cleanup → Closes the file automatically, even if an exception occurs.\n",
        "\n",
        "✅ Reduces Boilerplate Code → No need to explicitly call close().\n",
        "\n",
        "✅ Prevents Resource Leaks → Ensures that the file is not left open accidentally.\n",
        "\n",
        "\n",
        "Using with to Handle Files\n",
        "\n",
        "with open(\"example.txt\", \"w\") as file:\n",
        "    file.write(\"Hello, World!\")  # No need to manually close the file\n",
        "\n",
        "🔹 The file is automatically closed when the with block ends.\n",
        "\n",
        "\n",
        "\n",
        "**Q9. What is the difference between multithreading and multiprocessing?**\n",
        "\n",
        "ANS. Both multithreading and multiprocessing are used to perform multiple tasks simultaneously, but they work in different ways.\n",
        "\n",
        "1. Multithreading\n",
        "\n",
        "Uses multiple threads within a single process.\n",
        "\n",
        "Threads share memory and resources.\n",
        "\n",
        "Suitable for I/O-bound tasks (e.g., file operations, network requests).\n",
        "\n",
        "Limited by Python’s Global Interpreter Lock (GIL), which allows only one thread to execute Python bytecode at a time.\n",
        "\n",
        "2. Multiprocessing\n",
        "\n",
        "Uses multiple processes, each with its own memory space.\n",
        "\n",
        "Bypasses the GIL, allowing true parallel execution.\n",
        "\n",
        "Suitable for CPU-bound tasks (e.g., complex calculations, data processing).\n",
        "\n",
        "More memory-intensive since each process has its own resources.\n",
        "\n",
        "\n",
        "**Q10. What are the advantages of using logging in a program?**\n",
        "\n",
        "ANS. Logging provides a structured way to track events and errors in a program. Instead of using print(), logging offers better control, formatting, and persistence.\n",
        "\n",
        "1. Debugging and Troubleshooting\n",
        "\n",
        "✅ Helps identify issues in code by recording error messages, warnings, and execution flow.\n",
        "\n",
        "✅ Provides detailed logs for diagnosing problems after the program has run.\n",
        "\n",
        "\n",
        "2. Tracking Application Behavior\n",
        "\n",
        "✅ Logs help monitor how a program runs over time.\n",
        "\n",
        "✅ Useful for auditing or tracking user actions in web applications.\n",
        "\n",
        "3. Persistent Record Keeping\n",
        "\n",
        "✅ Unlike print(), logs can be saved to files, databases, or external systems for future reference.\n",
        "\n",
        "✅ Useful for tracking errors and performance in production environments.\n",
        "\n",
        "4. Different Log Levels for Better Organization\n",
        "\n",
        "✅ Allows filtering messages based on severity:\n",
        "\n",
        "DEBUG → Detailed debugging information.\n",
        "\n",
        "INFO → General runtime events.\n",
        "\n",
        "\n",
        "**Q11. What is memory management in Python?**\n",
        "\n",
        "ANS.\n",
        "Memory management in Python refers to how Python allocates, manages, and frees memory to ensure efficient program execution. Python handles memory automatically using garbage collection, dynamic memory allocation, and reference counting.\n",
        "\n",
        "Key Features of Python's Memory Management\n",
        "\n",
        "1. Automatic Memory Allocation\n",
        "\n",
        "Python automatically allocates memory when objects are created.\n",
        "\n",
        "Small objects (integers, strings, lists) are stored in a private heap managed by Python.\n",
        "\n",
        "2. Reference Counting\n",
        "\n",
        "Each object has a reference count, tracking how many variables point to it.\n",
        "\n",
        "When the count reaches zero, Python frees the memory.\n",
        "\n",
        "3. Garbage Collection (GC)\n",
        "\n",
        "Python has a garbage collector that removes unused objects to free memory.\n",
        "\n",
        "It helps handle cyclic references (objects referring to each other).\n",
        "\n",
        "4. Memory Pools (Object-Specific Memory Management)\n",
        "\n",
        "Python doesn’t return memory to the OS immediately but reuses it for future objects.\n",
        "\n",
        "The PyMalloc allocator optimizes memory allocation for small objects.\n",
        "\n",
        "\n",
        "**Q12. What are the basic steps involved in exception handling in Python?**\n",
        "\n",
        "ANS. Exception handling in Python follows a structured approach to detect, handle, and recover from runtime errors.\n",
        "\n",
        "1. Use try Block to Enclose Risky Code\n",
        "\n",
        "The try block contains code that might raise an exception.\n",
        "\n",
        "If an error occurs, Python stops execution and moves to the except block.\n",
        "\n",
        "2. Catch Exceptions with except Block\n",
        "\n",
        "The except block handles specific errors.\n",
        "\n",
        "You can use multiple except blocks for different exceptions.\n",
        "\n",
        "3. Use a Generic except to Catch Any Exception (Optional, Use with Caution)\n",
        "\n",
        "If you don’t know the exact error, you can catch all exceptions using except Exception as e.\n",
        "\n",
        "\n",
        "4. Use else Block to Run Code If No Exception Occurs\n",
        "\n",
        "The else block runs only if no exceptions occur inside try.\n",
        "\n",
        "5. Use finally Block to Execute Cleanup Code (Always Runs)\n",
        "\n",
        "The finally block always runs, whether an exception occurs or not.\n",
        "\n",
        "Useful for releasing resources (closing files, database connections).\n",
        "\n",
        "\n",
        "6. Raising Custom Exceptions Using raise (Optional, for Custom Error Handling)\n",
        "\n",
        "You can manually raise exceptions using raise.\n",
        "\n",
        "\n",
        "**Q13. Why is memory management important in Python?**\n",
        "\n",
        "ANS. Memory management is crucial in Python to ensure efficient use of system resources, prevent memory leaks, and improve program performance. Since Python handles memory automatically, understanding how it works helps developers write optimized and scalable code.\n",
        "\n",
        "Key Reasons Why Memory Management Is Important in Python\n",
        "\n",
        "1. Prevents Memory Leaks\n",
        "\n",
        "Memory leaks occur when unused objects are not freed, causing unnecessary memory consumption.\n",
        "\n",
        "Python’s garbage collector helps, but improper coding (e.g., circular references) can still cause leaks.\n",
        "\n",
        "2. Improves Performance\n",
        "\n",
        "Inefficient memory usage slows down the program.\n",
        "\n",
        "Python optimizes memory with object pooling and caching (e.g., integers and strings).\n",
        "\n",
        "3. Enables Scalability\n",
        "\n",
        "Large-scale applications (e.g., web servers, machine learning models) require efficient memory use.\n",
        "\n",
        "Poor memory management leads to high RAM usage, slowing down execution.\n",
        "\n",
        "\n",
        "\n",
        "4. Prevents Excessive Memory Allocation\n",
        "\n",
        "Python reuses memory for small objects (integer caching, string interning).\n",
        "\n",
        "However, large objects (e.g., big lists, pandas DataFrames) can consume excessive memory.\n",
        "\n",
        "5. Helps in Long-Running Applications\n",
        "\n",
        "Web servers, machine learning models, and automation scripts run for hours or days.\n",
        "\n",
        "Poor memory management leads to increased RAM usage over time (memory bloating).\n",
        "\n",
        "\n",
        "\n",
        "**Q14. What is the role of try and except in exception handling?**\n",
        "\n",
        "ANS. In Python, exception handling is done using the try and except blocks. They help manage runtime errors and prevent program crashes by handling unexpected situations.\n",
        "\n",
        "1. try Block: Detects Errors\n",
        "\n",
        "The try block contains code that might cause an exception.\n",
        "\n",
        "If no error occurs, the except block is skipped.\n",
        "\n",
        "If an error occurs, execution stops in the try block, and Python moves to except.\n",
        "\n",
        "2. except Block: Handles Errors\n",
        "\n",
        "The except block runs only if an exception occurs in the try block.\n",
        "\n",
        "Prevents the program from crashing by handling errors gracefully.\n",
        "\n",
        "Can catch specific exceptions or all exceptions.\n",
        "\n",
        "3. Handling Multiple Exceptions\n",
        "\n",
        "You can catch multiple exceptions using multiple except blocks.\n",
        "\n",
        "4. Catching All Exceptions (Use with Caution)\n",
        "\n",
        "Using except Exception: catches all types of errors, but this can hide bugs.\n",
        "\n",
        "\n",
        "**Q15. How does Python's garbage collection system work?**\n",
        "\n",
        "ANS. Python’s garbage collection (GC) system automatically manages memory by reclaiming unused objects, preventing memory leaks, and optimizing performance. It primarily relies on reference counting and cyclic garbage collection.\n",
        "\n",
        "1. Reference Counting (Primary GC Mechanism)\n",
        "\n",
        "Every Python object has a reference count (how many variables point to it).\n",
        "\n",
        "When an object’s reference count drops to zero, Python immediately deletes it and frees the memory.\n",
        "\n",
        "2. Cyclic Garbage Collection (Handles Circular References)\n",
        "\n",
        "Python has a cyclic garbage collector to remove objects that reference each other but are no longer needed.\n",
        "\n",
        "3. How Python’s Garbage Collector Works\n",
        "\n",
        "Python’s GC runs in 3 generations:\n",
        "\n",
        "1. New objects (Gen 0) → Frequently checked.\n",
        "\n",
        "\n",
        "2. Survived objects (Gen 1) → Checked less often.\n",
        "\n",
        "\n",
        "3. Long-lived objects (Gen 2) → Checked rarely.\n",
        "\n",
        "\n",
        "4. Disabling and Enabling Garbage Collection (Advanced Usage)\n",
        "\n",
        "You can disable Python's GC if it causes performance issues.\n",
        "\n",
        "Disable Garbage Collection (Not Recommended in Most Cases)\n",
        "\n",
        "gc.disable()  # Turns off garbage collection\n",
        "\n",
        "Enable Garbage Collection\n",
        "\n",
        "gc.enable()  # Turns it back on\n",
        "\n",
        "Summary of Python's Garbage Collection\n",
        "\n",
        "6. Best Practices for Efficient Memory Management\n",
        "\n",
        "\n",
        "**Q16. What is the purpose of the else block in exception handling?**\n",
        "\n",
        "ANS. Purpose of the else Block in Exception Handling\n",
        "\n",
        "The else block in Python’s exception handling is used to execute code only if no exception occurs in the try block.\n",
        "\n",
        "How It Works\n",
        "\n",
        "The try block contains risky code that might raise an exception.\n",
        "\n",
        "The except block handles any exceptions if they occur.\n",
        "\n",
        "The else block runs only if no exceptions were raised in the try block.\n",
        "\n",
        "\n",
        "✅ Use Case: When you want to run certain code only if the try block succeeds.\n",
        "\n",
        "When to Use the else Block?\n",
        "\n",
        "When you have code that should run only if no error occurs.\n",
        "\n",
        "When separating normal execution from error handling improves readability.\n",
        "\n",
        "\n",
        "**Q17. What are the common logging levels in Python?**\n",
        "\n",
        "ANS. Python’s logging module provides different logging levels to categorize log messages based on their severity. These levels help developers track and debug issues efficiently.\n",
        "\n",
        "\n",
        "1. Logging Levels (Ordered by Severity)\n",
        "\n",
        "✅ Higher values indicate more severe issues.\n",
        "✅ Default logging level is WARNING, meaning logs below WARNING won’t be displayed unless configured.\n",
        "\n",
        "2. Example: Using Different Logging Levels\n",
        "\n",
        "3. Changing the Logging Level\n",
        "\n",
        "If you set a higher level, lower-severity messages are ignored.\n",
        "\n",
        "4. Summary of Logging Levels\n",
        "\n",
        "\n",
        "**Q18. What is the difference between os.fork() and multiprocessing in Python?**\n",
        "\n",
        "ANS. Both os.fork() and the multiprocessing module are used to create new processes in Python, but they have key differences in how they work and where they are best used.\n",
        "\n",
        "\n",
        "1. os.fork() (Low-Level Process Creation)\n",
        "\n",
        "os.fork() creates a new child process by duplicating the current process.\n",
        "\n",
        "Works only on Unix-based systems (Linux, macOS).\n",
        "\n",
        "The child process gets a copy of the parent’s memory, but they run independently.\n",
        "\n",
        "2. multiprocessing Module (High-Level API for Process Management)\n",
        "\n",
        "Cross-platform (works on Windows, Linux, macOS).\n",
        "\n",
        "Creates completely independent processes (no shared memory).\n",
        "\n",
        "Supports process pools, inter-process communication (IPC), and shared memory.\n",
        "\n",
        "When to Use Which?\n",
        "\n",
        "Use os.fork() for low-level process control in Unix-based systems when you need a lightweight approach.\n",
        "\n",
        "Use multiprocessing for cross-platform applications where processes need better communication and control.\n",
        "\n",
        "\n",
        "**Q19.What is the importance of closing a file in Python?**\n",
        "\n",
        "ANS. When working with files in Python, closing a file using .close() is important because it ensures that system resources are released properly and that data is correctly written to disk.\n",
        "\n",
        "\n",
        "1. Why is Closing a File Important?\n",
        "\n",
        "\n",
        "2. Example of Closing a File Manually\n",
        "\n",
        "3. Using with Statement (Recommended)\n",
        "\n",
        "Instead of manually calling .close(), Python provides the with statement, which automatically closes the file when done.\n",
        "\n",
        "4. What Happens If You Don’t Close a File?\n",
        "\n",
        "Data may not be written immediately (especially in write mode).\n",
        "\n",
        "Memory usage increases due to open file handles.\n",
        "\n",
        "Other programs might not access the file (e.g., a log file remains locked).\n",
        "\n",
        "\n",
        "**Q20. What is the difference between file.read() and file.readline() in Python?**\n",
        "\n",
        "ANS. Both file.read() and file.readline() are used to read data from a file, but they behave differently.\n",
        "\n",
        "1. file.read() – Reads the Entire File or a Specific Number of Bytes\n",
        "\n",
        "Reads the entire file into a string if no argument is provided.\n",
        "\n",
        "If a number (n) is provided, it reads up to n characters or bytes.\n",
        "\n",
        "Useful when you need all file contents at once.\n",
        "\n",
        "2. file.readline() – Reads One Line at a Time\n",
        "\n",
        "Reads only a single line from the file.\n",
        "\n",
        "If called multiple times, it reads the next line.\n",
        "\n",
        "Useful when processing files line by line.\n",
        "\n",
        "\n",
        "**Q21. What is the logging module in Python used for?**\n",
        "\n",
        "ANS. The logging module in Python is used for tracking events that happen while a program runs. It helps developers record messages, warnings, and errors in a structured way, making debugging and monitoring easier.\n",
        "\n",
        "1. Why Use the logging Module?\n",
        "\n",
        "\n",
        "2. Basic Example: Logging to Console\n",
        "\n",
        "import logging\n",
        "\n",
        "3. Logging Levels in Python\n",
        "\n",
        "Example: Setting a Logging Level\n",
        "\n",
        "logging.basicConfig(level=logging.WARNING)  # Only WARNING and above will be logged\n",
        "\n",
        "4. Logging to a File Instead of Console\n",
        "\n",
        "logging.basicConfig(filename=\"app.log\", level=logging.ERROR, format=\"%(asctime)s - %(levelname)s - %(message)s\")\n",
        "\n",
        "5. Summary: Why Use logging Instead of print()?\n",
        "\n",
        "✅ Use print() for quick debugging, but logging for serious applications.\n",
        "\n",
        "\n",
        "**Q22. What is the os module in Python used for in file handling?**\n",
        "\n",
        "ANS. The os module in Python provides functions to interact with the operating system, including file and directory management. It allows you to create, delete, rename, move, and check files and directories.\n",
        "\n",
        "1. Why Use the os Module for File Handling?\n",
        "\n",
        "✔ Cross-platform compatibility (works on Windows, Linux, macOS)\n",
        "✔ Performs system-level operations (e.g., listing files, checking file existence)\n",
        "✔ Automates file management tasks\n",
        "\n",
        "2. Common File Handling Operations with os\n",
        "\n",
        "(a) Checking If a File Exists\n",
        "\n",
        "(b) Creating a New Directory\n",
        "\n",
        "(c) Listing Files in a Directory\n",
        "\n",
        "(d) Renaming a File or Directory\n",
        "\n",
        "(e) Deleting a File\n",
        "\n",
        "\n",
        "**Q23. What are the challenges associated with memory management in Python?**\n",
        "\n",
        "ANS. Python has automatic memory management, but there are still challenges developers face, especially when working with large applications.\n",
        "\n",
        "1. Major Memory Management Challenges in Python\n",
        "\n",
        "2. Common Causes of Memory Issues in Python\n",
        "\n",
        "(a) Circular References Leading to Memory Leaks\n",
        "\n",
        "Python’s reference counting cannot handle circular references well.\n",
        "\n",
        "(b) Holding Unused Objects in Lists or Dictionaries\n",
        "\n",
        "(c) Inefficient String Concatenation\n",
        "\n",
        "\n",
        "**Q24. How do you raise an exception manually in Python?**\n",
        "\n",
        "ANS. In Python, you can manually raise an exception using the raise keyword. This is useful when you want to enforce certain conditions or handle errors in a custom way.\n",
        "\n",
        "\n",
        "1. Basic Syntax of raise\n",
        "\n",
        "raise Exception(\"This is a manually raised exception\")\n",
        "\n",
        "2. Raising a Specific Exception\n",
        "\n",
        "Python provides built-in exception classes, such as ValueError, TypeError, and KeyError.\n",
        "\n",
        "3. Raising a Custom Exception\n",
        "\n",
        "You can define and raise your own exception by creating a custom exception class.\n",
        "\n",
        "4. Raising an Exception Inside a Function\n",
        "\n",
        "5. Using raise Inside try-except Blocks\n",
        "\n",
        "You can re-raise an exception inside an except block.\n",
        "\n",
        "\n",
        "**Q25. Why is it important to use multithreading in certain applications?**\n",
        "\n",
        "ANS. Multithreading is crucial for applications that need to perform multiple tasks concurrently. It allows programs to run multiple operations in parallel, improving efficiency and responsiveness.\n",
        "\n",
        "1. Benefits of Using Multithreading\n",
        "\n",
        "2. When to Use Multithreading?\n",
        "\n",
        "✔ I/O-bound tasks → YES ✅\n",
        "\n",
        "✔ Web scraping → YES ✅\n",
        "\n",
        "✔ Downloading files → YES ✅\n",
        "\n",
        "✔ Database queries → YES ✅\n",
        "\n",
        "❌ CPU-intensive tasks → NO (Use multiprocessing instead)\n",
        "\n",
        "3. Example: Multithreading for Faster Execution\n",
        "\n",
        "Imagine you need to download multiple web pages. Without multithreading:\n",
        "\n",
        "4. When Not to Use Multithreading?\n",
        "\n",
        "Python’s Global Interpreter Lock (GIL) prevents true parallel execution for CPU-bound tasks\n",
        "\n"
      ],
      "metadata": {
        "id": "995Yv8j8U0KA"
      }
    },
    {
      "cell_type": "code",
      "source": [
        "# **PRACTICAL QUESTIONS**\n",
        "\n",
        "# Q1. How can you open a file for writing in Python and write a string to it?\n",
        "\n",
        "# ANS.\n",
        "\n",
        "# Open the file in write mode\n",
        "with open(\"example.txt\", \"w\") as file:\n",
        "    # Write a string to the file\n",
        "    file.write(\"Hello, world!\")"
      ],
      "metadata": {
        "id": "qCNfag0huSLj"
      },
      "execution_count": 1,
      "outputs": []
    },
    {
      "cell_type": "code",
      "source": [
        "#Q2. Write a Python program to read the contents of a file and print each line?\n",
        "\n",
        "#ANS.\n",
        "\n",
        "# Open the file in read mode\n",
        "with open(\"example.txt\", \"r\") as file:\n",
        "    # Loop through each line in the file\n",
        "    for line in file:\n",
        "        print(line.strip())  # Strip removes any trailing newline characters\n",
        ""
      ],
      "metadata": {
        "colab": {
          "base_uri": "https://localhost:8080/"
        },
        "id": "QPom5IlSunLx",
        "outputId": "8f9023b6-720e-4a09-d232-068fff033a7e"
      },
      "execution_count": 3,
      "outputs": [
        {
          "output_type": "stream",
          "name": "stdout",
          "text": [
            "Hello, world!\n"
          ]
        }
      ]
    },
    {
      "cell_type": "code",
      "source": [
        "# Q3. How would you handle a case where the file doesn't exist while trying to open it for reading.\n",
        "\n",
        "#ANS.\n",
        "\n",
        "try:\n",
        "    # Attempt to open the file in read mode\n",
        "    with open(\"example.txt\", \"r\") as file:\n",
        "        for line in file:\n",
        "            print(line.strip())  # Strip removes any trailing newline characters\n",
        "except FileNotFoundError:\n",
        "    print(\"Error: The file does not exist.\")\n",
        "except Exception as e:\n",
        "    print(f\"An unexpected error occurred: {e}\")"
      ],
      "metadata": {
        "colab": {
          "base_uri": "https://localhost:8080/"
        },
        "id": "hJA7E83JvFLq",
        "outputId": "f9dad111-fcec-47ae-f146-7d9966ec39ca"
      },
      "execution_count": 4,
      "outputs": [
        {
          "output_type": "stream",
          "name": "stdout",
          "text": [
            "Hello, world!\n"
          ]
        }
      ]
    },
    {
      "cell_type": "code",
      "source": [
        "#Q4. Write a Python script that reads from one file and writes its content to another file?\n",
        "\n",
        "#ANS.\n",
        "\n",
        "try:\n",
        "    # Open the source file for reading and the destination file for writing\n",
        "    with open(\"source.txt\", \"r\") as source, open(\"destination.txt\", \"w\") as destination:\n",
        "        for line in source:\n",
        "            destination.write(line)\n",
        "\n",
        "    print(\"File copied successfully.\")\n",
        "except FileNotFoundError:\n",
        "    print(\"Error: The source file does not exist.\")\n",
        "except Exception as e:\n",
        "    print(f\"An unexpected error occurred: {e}\")"
      ],
      "metadata": {
        "colab": {
          "base_uri": "https://localhost:8080/"
        },
        "id": "MqxDaM-wvQgv",
        "outputId": "e92e54af-30b3-4018-e902-c5e4b20dd904"
      },
      "execution_count": 5,
      "outputs": [
        {
          "output_type": "stream",
          "name": "stdout",
          "text": [
            "Error: The source file does not exist.\n"
          ]
        }
      ]
    },
    {
      "cell_type": "code",
      "source": [
        "#Q5. How would you catch and handle division by zero error in Python?\n",
        "\n",
        "#ANS.\n",
        "\n",
        "try:\n",
        "    # Attempt to divide by zero\n",
        "    num = int(input(\"Enter a number: \"))\n",
        "    result = num / 0  # This will raise a ZeroDivisionError\n",
        "    print(\"Result:\", result)\n",
        "except ZeroDivisionError:\n",
        "    print(\"Error: Division by zero is not allowed.\")\n",
        "except Exception as e:\n",
        "    print(f\"An unexpected error occurred: {e}\")"
      ],
      "metadata": {
        "colab": {
          "base_uri": "https://localhost:8080/"
        },
        "id": "mT45TuE3vb5B",
        "outputId": "9c018c78-5521-429e-e844-f22b59c736c6"
      },
      "execution_count": 6,
      "outputs": [
        {
          "output_type": "stream",
          "name": "stdout",
          "text": [
            "Enter a number: 56\n",
            "Error: Division by zero is not allowed.\n"
          ]
        }
      ]
    },
    {
      "cell_type": "code",
      "source": [
        "#Q6. Write a Python program that logs an error message to a log file when a division by zero exception occurs?\n",
        "\n",
        "# ANS.\n",
        "\n",
        "\n",
        "import logging\n",
        "\n",
        "# Configure logging\n",
        "logging.basicConfig(filename=\"error.log\", level=logging.ERROR, format=\"%(asctime)s - %(levelname)s - %(message)s\")\n",
        "\n",
        "try:\n",
        "    # Attempt division\n",
        "    num = int(input(\"Enter a number: \"))\n",
        "    result = num / 0  # This will raise ZeroDivisionError\n",
        "    print(\"Result:\", result)\n",
        "except ZeroDivisionError:\n",
        "    logging.error(\"Division by zero error occurred.\")\n",
        "    print(\"Error: Division by zero is not allowed. Check error.log for details.\")\n",
        "except Exception as e:\n",
        "    logging.error(f\"An unexpected error occurred: {e}\")\n",
        "    print(\"An unexpected error occurred. Check error.log for details.\")"
      ],
      "metadata": {
        "colab": {
          "base_uri": "https://localhost:8080/"
        },
        "id": "qXiEmWlCvu8U",
        "outputId": "c707445c-cfcf-4c22-d189-ae878b4447a4"
      },
      "execution_count": 7,
      "outputs": [
        {
          "name": "stdout",
          "output_type": "stream",
          "text": [
            "Enter a number: 40\n"
          ]
        },
        {
          "output_type": "stream",
          "name": "stderr",
          "text": [
            "ERROR:root:Division by zero error occurred.\n"
          ]
        },
        {
          "output_type": "stream",
          "name": "stdout",
          "text": [
            "Error: Division by zero is not allowed. Check error.log for details.\n"
          ]
        }
      ]
    },
    {
      "cell_type": "code",
      "source": [
        "#Q7. How do you log information at different levels (INFO, ERROR, WARNING) in Python using the logging module?\n",
        "\n",
        "# ANS.\n",
        "\n",
        "import logging\n",
        "\n",
        "# Configure logging to display messages in the console and write to a file\n",
        "logging.basicConfig(\n",
        "    filename=\"app.log\",  # Log file name\n",
        "    level=logging.DEBUG,  # Set the minimum logging level\n",
        "    format=\"%(asctime)s - %(levelname)s - %(message)s\",  # Log format\n",
        "    filemode=\"w\"  # Overwrite the log file each time the script runs\n",
        ")\n",
        "\n",
        "# Logging messages at different levels\n",
        "logging.debug(\"This is a debug message.\")\n",
        "logging.info(\"This is an info message.\")\n",
        "logging.warning(\"This is a warning message.\")\n",
        "logging.error(\"This is an error message.\")\n",
        "logging.critical(\"This is a critical message.\")\n",
        "\n",
        "print(\"Logging complete. Check app.log for details.\")"
      ],
      "metadata": {
        "colab": {
          "base_uri": "https://localhost:8080/"
        },
        "id": "TEN9wm4Vv97U",
        "outputId": "143deafc-5099-49fb-e4cc-6cbb6c423d35"
      },
      "execution_count": 8,
      "outputs": [
        {
          "output_type": "stream",
          "name": "stderr",
          "text": [
            "WARNING:root:This is a warning message.\n",
            "ERROR:root:This is an error message.\n",
            "CRITICAL:root:This is a critical message.\n"
          ]
        },
        {
          "output_type": "stream",
          "name": "stdout",
          "text": [
            "Logging complete. Check app.log for details.\n"
          ]
        }
      ]
    },
    {
      "cell_type": "code",
      "source": [
        "# Q8. Write a program to handle a file opening error using exception handling?\n",
        "\n",
        "#ANS.\n",
        "\n",
        "try:\n",
        "    # Attempt to open a non-existent file\n",
        "    with open(\"non_existent_file.txt\", \"r\") as file:\n",
        "        content = file.read()\n",
        "        print(content)\n",
        "except FileNotFoundError:\n",
        "    print(\"Error: The file does not exist. Please check the file name and try again.\")\n",
        "except PermissionError:\n",
        "    print(\"Error: You do not have permission to access this file.\")\n",
        "except Exception as e:\n",
        "    print(f\"An unexpected error occurred: {e}\")"
      ],
      "metadata": {
        "colab": {
          "base_uri": "https://localhost:8080/"
        },
        "id": "Mj9jp3BuwPSW",
        "outputId": "9d4a7016-50a6-4c85-dffd-e50938bd153e"
      },
      "execution_count": 9,
      "outputs": [
        {
          "output_type": "stream",
          "name": "stdout",
          "text": [
            "Error: The file does not exist. Please check the file name and try again.\n"
          ]
        }
      ]
    },
    {
      "cell_type": "code",
      "source": [
        "#Q9. How can you read a file line by line and store its content in a list in Python?\n",
        "\n",
        "#ANS.\n",
        "\n",
        "with open(\"example.txt\", \"r\") as file:\n",
        "    lines = file.readlines()  # Reads all lines into a list\n",
        "\n",
        "# Remove trailing newlines from each line\n",
        "lines = [line.strip() for line in lines]\n",
        "\n",
        "print(lines)  # Output the list of lines"
      ],
      "metadata": {
        "colab": {
          "base_uri": "https://localhost:8080/"
        },
        "id": "quIeLRrpwaw_",
        "outputId": "93170276-e67d-4730-e56a-eba2a184fc7b"
      },
      "execution_count": 10,
      "outputs": [
        {
          "output_type": "stream",
          "name": "stdout",
          "text": [
            "['Hello, world!']\n"
          ]
        }
      ]
    },
    {
      "cell_type": "code",
      "source": [
        "# Q10. How can you append data to an existing file in Python?\n",
        "\n",
        "# ANS.\n",
        "\n",
        "# Open the file in append mode\n",
        "with open(\"example.txt\", \"a\") as file:\n",
        "    file.write(\"\\nThis is a new line appended to the file.\")"
      ],
      "metadata": {
        "id": "unqYtrvnwl9L"
      },
      "execution_count": 11,
      "outputs": []
    },
    {
      "cell_type": "code",
      "source": [
        "# Q11. Write a Python program that uses a try-except block to handle an error when attempting to access a dictionary key that doesn't exist?\n",
        "\n",
        "# ANS.\n",
        "\n",
        "# Sample dictionary\n",
        "data = {\"name\": \"Alice\", \"age\": 25, \"city\": \"New York\"}\n",
        "\n",
        "try:\n",
        "    # Attempt to access a key that may not exist\n",
        "    value = data[\"country\"]  # This will raise a KeyError if \"country\" is not in the dictionary\n",
        "    print(\"Value:\", value)\n",
        "except KeyError:\n",
        "    print(\"Error: The specified key does not exist in the dictionary.\")\n"
      ],
      "metadata": {
        "colab": {
          "base_uri": "https://localhost:8080/"
        },
        "id": "Zk_oXj4JwwOR",
        "outputId": "373d0afb-fdc7-4774-d4bd-71ceb42f7bb8"
      },
      "execution_count": 12,
      "outputs": [
        {
          "output_type": "stream",
          "name": "stdout",
          "text": [
            "Error: The specified key does not exist in the dictionary.\n"
          ]
        }
      ]
    },
    {
      "cell_type": "code",
      "source": [
        "# Q12. Write a program that demonstrates using multiple except blocks to handle different types of exceptions?\n",
        "\n",
        "# ANS.\n",
        "\n",
        "try:\n",
        "    # Get user input\n",
        "    num1 = int(input(\"Enter a number: \"))  # May raise ValueError if input is not an integer\n",
        "    num2 = int(input(\"Enter another number: \"))\n",
        "\n",
        "    # Perform division\n",
        "    result = num1 / num2  # May raise ZeroDivisionError if num2 is 0\n",
        "\n",
        "    # Access a dictionary key (potential KeyError)\n",
        "    my_dict = {\"a\": 10, \"b\": 20}\n",
        "    print(\"Value:\", my_dict[\"c\"])  # KeyError if \"c\" is not in the dictionary\n",
        "\n",
        "except ValueError:\n",
        "    print(\"Error: Invalid input! Please enter a valid integer.\")\n",
        "except ZeroDivisionError:\n",
        "    print(\"Error: Division by zero is not allowed.\")\n",
        "except KeyError:\n",
        "    print(\"Error: The specified key does not exist in the dictionary.\")\n",
        "except Exception as e:\n",
        "    print(f\"An unexpected error occurred: {e}\")\n",
        "\n",
        "print(\"Program continues...\")"
      ],
      "metadata": {
        "colab": {
          "base_uri": "https://localhost:8080/"
        },
        "id": "6LT6zFLaw-6o",
        "outputId": "23d436e4-0cb6-415b-e3a2-feb2b2434273"
      },
      "execution_count": 13,
      "outputs": [
        {
          "output_type": "stream",
          "name": "stdout",
          "text": [
            "Enter a number: 54\n",
            "Enter another number: 87\n",
            "Error: The specified key does not exist in the dictionary.\n",
            "Program continues...\n"
          ]
        }
      ]
    },
    {
      "cell_type": "code",
      "source": [
        "# Q13. How would you check if a file exists before attempting to read it in Python?\n",
        "\n",
        "# ANS.\n",
        "\n",
        "import os\n",
        "\n",
        "filename = \"example.txt\"\n",
        "\n",
        "if os.path.exists(filename):\n",
        "    with open(filename, \"r\") as file:\n",
        "        content = file.read()\n",
        "        print(\"File content:\\n\", content)\n",
        "else:\n",
        "    print(\"Error: The file does not exist.\")"
      ],
      "metadata": {
        "colab": {
          "base_uri": "https://localhost:8080/"
        },
        "id": "fejfJXH3yVbo",
        "outputId": "7bd4c713-2ffa-47c0-e8ab-f8c79fa0e06b"
      },
      "execution_count": 17,
      "outputs": [
        {
          "output_type": "stream",
          "name": "stdout",
          "text": [
            "File content:\n",
            " Hello, world!\n",
            "This is a new line appended to the file.\n"
          ]
        }
      ]
    },
    {
      "cell_type": "code",
      "source": [
        "# Q14. Write a program that uses the logging module to log both informational and error messages?\n",
        "\n",
        "# ANS.\n",
        "\n",
        "import logging\n",
        "\n",
        "# Configure logging\n",
        "logging.basicConfig(\n",
        "    filename=\"app.log\",  # Log file name\n",
        "    level=logging.DEBUG,  # Capture all levels (DEBUG and above)\n",
        "    format=\"%(asctime)s - %(levelname)s - %(message)s\",  # Log format with timestamp\n",
        ")\n",
        "\n",
        "# Log an informational message\n",
        "logging.info(\"Program started.\")\n",
        "\n",
        "try:\n",
        "    # User input for division\n",
        "    num1 = int(input(\"Enter a number: \"))  # May raise ValueError\n",
        "    num2 = int(input(\"Enter another number: \"))\n",
        "\n",
        "    # Perform division\n",
        "    result = num1 / num2  # May raise ZeroDivisionError\n",
        "    logging.info(f\"Division successful: {num1} / {num2} = {result}\")\n",
        "    print(f\"Result: {result}\")\n",
        "\n",
        "except ValueError:\n",
        "    logging.error(\"Invalid input! User did not enter an integer.\")\n",
        "    print(\"Error: Please enter a valid integer.\")\n",
        "except ZeroDivisionError:\n",
        "    logging.error(\"Attempted division by zero.\")\n",
        "    print(\"Error: Division by zero is not allowed.\")\n",
        "except Exception as e:\n",
        "    logging.error(f\"An unexpected error occurred: {e}\")\n",
        "    print(f\"An unexpected error occurred: {e}\")\n",
        "\n",
        "logging.info(\"Program execution completed.\")\n",
        "print(\"Check the 'app.log' file for logged messages.\")"
      ],
      "metadata": {
        "colab": {
          "base_uri": "https://localhost:8080/"
        },
        "id": "NnzozOkkxJMA",
        "outputId": "dfd95e8d-bd2c-42d7-bbfc-5c719365dca9"
      },
      "execution_count": 14,
      "outputs": [
        {
          "output_type": "stream",
          "name": "stdout",
          "text": [
            "Enter a number: 49\n",
            "Enter another number: 52\n",
            "Result: 0.9423076923076923\n",
            "Check the 'app.log' file for logged messages.\n"
          ]
        }
      ]
    },
    {
      "cell_type": "code",
      "source": [
        "# Q15. Write a Python program that prints the content of a file and handles the case when the file is empty?\n",
        "\n",
        "# ANS.\n",
        "\n",
        "try:\n",
        "    # Open the file in read mode\n",
        "    with open(\"example.txt\", \"r\") as file:\n",
        "        content = file.read().strip()  # Read and remove leading/trailing whitespace\n",
        "\n",
        "        if not content:  # Check if the file is empty\n",
        "            print(\"The file is empty.\")\n",
        "        else:\n",
        "            print(\"File content:\")\n",
        "            print(content)\n",
        "\n",
        "except FileNotFoundError:\n",
        "    print(\"Error: The file does not exist.\")\n",
        "except Exception as e:\n",
        "    print(f\"An unexpected error occurred: {e}\")"
      ],
      "metadata": {
        "colab": {
          "base_uri": "https://localhost:8080/"
        },
        "id": "r_lSU_D2xbMM",
        "outputId": "922b808f-4eb2-4b14-8eba-a498cb9beb7f"
      },
      "execution_count": 15,
      "outputs": [
        {
          "output_type": "stream",
          "name": "stdout",
          "text": [
            "File content:\n",
            "Hello, world!\n",
            "This is a new line appended to the file.\n"
          ]
        }
      ]
    },
    {
      "cell_type": "code",
      "source": [
        "# Q16.  Demonstrate how to use memory profiling to check the memory usage of a small program?\n",
        "\n",
        "\n",
        "# ANS.\n",
        "\n",
        "!pip install memory_profiler # install the package before you try to import from it\n",
        "from memory_profiler import profile\n",
        "\n",
        "!mprof run my_script.py\n",
        "\n",
        "!mprof plot\n"
      ],
      "metadata": {
        "colab": {
          "base_uri": "https://localhost:8080/"
        },
        "id": "nqgeLWWdxqBa",
        "outputId": "58e7d0bc-66a4-4d71-ba48-4425b9b8ba31"
      },
      "execution_count": 35,
      "outputs": [
        {
          "output_type": "stream",
          "name": "stdout",
          "text": [
            "Collecting memory_profiler\n",
            "  Downloading memory_profiler-0.61.0-py3-none-any.whl.metadata (20 kB)\n",
            "Requirement already satisfied: psutil in /usr/local/lib/python3.11/dist-packages (from memory_profiler) (5.9.5)\n",
            "Downloading memory_profiler-0.61.0-py3-none-any.whl (31 kB)\n",
            "Installing collected packages: memory_profiler\n",
            "Successfully installed memory_profiler-0.61.0\n",
            "mprof: Sampling memory every 0.1s\n",
            "running new process\n",
            "running as a Python program...\n",
            "Could not find script my_script.py\n",
            "Using last profile data.\n",
            "Figure(1260x540)\n"
          ]
        }
      ]
    },
    {
      "cell_type": "code",
      "source": [
        "# Q17. Write a Python program to create and write a list of numbers to a file, one number per line?\n",
        "\n",
        "# ANS.\n",
        "\n",
        "# List of numbers to write to the file\n",
        "numbers = list(range(1, 11))  # Generates numbers from 1 to 10\n",
        "\n",
        "# Open the file in write mode and write numbers\n",
        "with open(\"numbers.txt\", \"w\") as file:\n",
        "    for number in numbers:\n",
        "        file.write(f\"{number}\\n\")  # Write each number followed by a newline\n",
        "\n",
        "print(\"Numbers have been written to numbers.txt.\")"
      ],
      "metadata": {
        "colab": {
          "base_uri": "https://localhost:8080/"
        },
        "id": "2rrw6rePx3Q_",
        "outputId": "b29938e3-e493-4ae2-e10d-98b4fd329317"
      },
      "execution_count": 25,
      "outputs": [
        {
          "output_type": "stream",
          "name": "stdout",
          "text": [
            "Numbers have been written to numbers.txt.\n"
          ]
        }
      ]
    },
    {
      "cell_type": "code",
      "source": [
        "# Q18. How would you implement a basic logging setup that logs to a file with rotation after 1MB?\n",
        "\n",
        "# ANS.\n",
        "\n",
        "import logging\n",
        "from logging.handlers import RotatingFileHandler\n",
        "\n",
        "# Define log file name\n",
        "log_file = \"app.log\"\n",
        "\n",
        "# Configure logging with rotation\n",
        "logging.basicConfig(\n",
        "    level=logging.DEBUG,  # Log all messages (DEBUG and above)\n",
        "    format=\"%(asctime)s - %(levelname)s - %(message)s\",  # Log format\n",
        "    handlers=[\n",
        "        RotatingFileHandler(log_file, maxBytes=1_000_000, backupCount=3)  # Rotate at 1MB, keep 3 backups\n",
        "    ]\n",
        ")\n",
        "\n",
        "# Example log messages\n",
        "logging.info(\"Application started.\")\n",
        "logging.debug(\"This is a debug message.\")\n",
        "logging.warning(\"This is a warning!\")\n",
        "logging.error(\"An error occurred.\")\n",
        "logging.critical(\"Critical issue!\")\n",
        "\n",
        "print(\"Logging setup complete. Check 'app.log'.\")"
      ],
      "metadata": {
        "colab": {
          "base_uri": "https://localhost:8080/"
        },
        "id": "JDysdohVzpwM",
        "outputId": "cdff99b9-9278-427a-afa1-efafdaa71e0a"
      },
      "execution_count": 26,
      "outputs": [
        {
          "output_type": "stream",
          "name": "stderr",
          "text": [
            "WARNING:root:This is a warning!\n",
            "ERROR:root:An error occurred.\n",
            "CRITICAL:root:Critical issue!\n"
          ]
        },
        {
          "output_type": "stream",
          "name": "stdout",
          "text": [
            "Logging setup complete. Check 'app.log'.\n"
          ]
        }
      ]
    },
    {
      "cell_type": "code",
      "source": [
        "# Q19. Write a program that handles both IndexError and KeyError using a try-except block?\n",
        "\n",
        "# ANS.\n",
        "\n",
        "try:\n",
        "    # List example (potential IndexError)\n",
        "    numbers = [10, 20, 30]\n",
        "    print(\"Accessing list element:\", numbers[5])  # IndexError if index is out of range\n",
        "\n",
        "    # Dictionary example (potential KeyError)\n",
        "    data = {\"name\": \"Alice\", \"age\": 25}\n",
        "    print(\"Accessing dictionary key:\", data[\"city\"])  # KeyError if key doesn't exist\n",
        "\n",
        "except IndexError:\n",
        "    print(\"Error: List index out of range.\")\n",
        "except KeyError:\n",
        "    print(\"Error: Dictionary key not found.\")\n",
        "except Exception as e:\n",
        "    print(f\"An unexpected error occurred: {e}\")\n",
        "\n",
        "print(\"Program execution continues...\")"
      ],
      "metadata": {
        "colab": {
          "base_uri": "https://localhost:8080/"
        },
        "id": "zDqbeLIWz4fQ",
        "outputId": "76a2bb4a-0050-4a90-f6e6-95b1fef53d6f"
      },
      "execution_count": 27,
      "outputs": [
        {
          "output_type": "stream",
          "name": "stdout",
          "text": [
            "Error: List index out of range.\n",
            "Program execution continues...\n"
          ]
        }
      ]
    },
    {
      "cell_type": "code",
      "source": [
        "# Q20. How would you open a file and read its contents using a context manager in Python?\n",
        "\n",
        "# ANS.\n",
        "\n",
        "# Open the file and read its contents\n",
        "with open(\"example.txt\", \"r\") as file:\n",
        "    content = file.read()  # Read the entire file\n",
        "    print(content)  # Print file contents"
      ],
      "metadata": {
        "colab": {
          "base_uri": "https://localhost:8080/"
        },
        "id": "P5F4IhwB0Dmg",
        "outputId": "b0a8e9a1-f96e-463c-ad87-30e490881096"
      },
      "execution_count": 28,
      "outputs": [
        {
          "output_type": "stream",
          "name": "stdout",
          "text": [
            "Hello, world!\n",
            "This is a new line appended to the file.\n"
          ]
        }
      ]
    },
    {
      "cell_type": "code",
      "source": [
        "# Q21. Write a Python program that reads a file and prints the number of occurrences of a specific word?\n",
        "\n",
        "# ANS.\n",
        "\n",
        "def count_word_occurrences(filename, target_word):\n",
        "    try:\n",
        "        with open(filename, \"r\") as file:\n",
        "            content = file.read().lower()  # Read file and convert to lowercase\n",
        "            words = content.split()  # Split content into words\n",
        "            count = words.count(target_word.lower())  # Count occurrences\n",
        "            print(f\"The word '{target_word}' appears {count} times in '{filename}'.\")\n",
        "    except FileNotFoundError:\n",
        "        print(f\"Error: The file '{filename}' does not exist.\")\n",
        "    except Exception as e:\n",
        "        print(f\"An unexpected error occurred: {e}\")\n",
        "\n",
        "# Example usage\n",
        "file_name = \"example.txt\"\n",
        "word_to_count = \"Python\"\n",
        "count_word_occurrences(file_name, word_to_count)"
      ],
      "metadata": {
        "colab": {
          "base_uri": "https://localhost:8080/"
        },
        "id": "ONNCqDrp0PDe",
        "outputId": "30d81ca9-357e-4e3c-ae82-534e8ab87301"
      },
      "execution_count": 29,
      "outputs": [
        {
          "output_type": "stream",
          "name": "stdout",
          "text": [
            "The word 'Python' appears 0 times in 'example.txt'.\n"
          ]
        }
      ]
    },
    {
      "cell_type": "code",
      "source": [
        "# Q22. How can you check if a file is empty before attempting to read its contents?\n",
        "\n",
        "# ANS.\n",
        "\n",
        "import os\n",
        "\n",
        "filename = \"example.txt\"\n",
        "\n",
        "if os.path.exists(filename) and os.path.getsize(filename) > 0:\n",
        "    with open(filename, \"r\") as file:\n",
        "        content = file.read()\n",
        "        print(\"File content:\\n\", content)\n",
        "else:\n",
        "    print(\"The file is empty or does not exist.\")"
      ],
      "metadata": {
        "colab": {
          "base_uri": "https://localhost:8080/"
        },
        "id": "gDde0y220Z7g",
        "outputId": "a4629dba-ecec-4f38-c8be-3789147b4282"
      },
      "execution_count": 30,
      "outputs": [
        {
          "output_type": "stream",
          "name": "stdout",
          "text": [
            "File content:\n",
            " Hello, world!\n",
            "This is a new line appended to the file.\n"
          ]
        }
      ]
    },
    {
      "cell_type": "code",
      "source": [
        "# Q23. Write a Python program that writes to a log file when an error occurs during file handling.?\n",
        "\n",
        "# ANS.\n",
        "\n",
        "import logging\n",
        "\n",
        "# Configure logging\n",
        "logging.basicConfig(\n",
        "    filename=\"file_errors.log\",  # Log file name\n",
        "    level=logging.ERROR,  # Log only errors and critical messages\n",
        "    format=\"%(asctime)s - %(levelname)s - %(message)s\",  # Log format with timestamp\n",
        ")\n",
        "\n",
        "def read_file(filename):\n",
        "    \"\"\"Attempts to read a file and logs errors if they occur.\"\"\"\n",
        "    try:\n",
        "        with open(filename, \"r\") as file:\n",
        "            content = file.read()\n",
        "            print(\"File content:\\n\", content)\n",
        "    except FileNotFoundError:\n",
        "        logging.error(f\"File '{filename}' not found.\")\n",
        "        print(\"Error: The file does not exist.\")\n",
        "    except PermissionError:\n",
        "        logging.error(f\"Permission denied for file '{filename}'.\")\n",
        "        print(\"Error: Permission denied.\")\n",
        "    except Exception as e:\n",
        "        logging.error(f\"An unexpected error occurred: {e}\")\n",
        "        print(f\"An unexpected error occurred: {e}\")\n",
        "\n",
        "# Example usage\n",
        "file_name = \"example.txt\"\n",
        "read_file(file_name)\n",
        "\n",
        "print(\"Check 'file_errors.log' for logged errors.\")"
      ],
      "metadata": {
        "colab": {
          "base_uri": "https://localhost:8080/"
        },
        "id": "1Yuds95T0l-Y",
        "outputId": "7d960643-8772-4ad6-bfb5-bd7030507b07"
      },
      "execution_count": 31,
      "outputs": [
        {
          "output_type": "stream",
          "name": "stdout",
          "text": [
            "File content:\n",
            " Hello, world!\n",
            "This is a new line appended to the file.\n",
            "Check 'file_errors.log' for logged errors.\n"
          ]
        }
      ]
    },
    {
      "cell_type": "code",
      "source": [],
      "metadata": {
        "id": "lqlzX-DF0xuY"
      },
      "execution_count": null,
      "outputs": []
    }
  ]
}